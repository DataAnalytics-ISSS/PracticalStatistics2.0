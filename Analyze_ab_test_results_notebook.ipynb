{
 "cells": [
  {
   "cell_type": "markdown",
   "metadata": {},
   "source": [
    "# Analyze A/B Test Results \n",
    "\n",
    "This project will assure you have mastered the subjects covered in the statistics lessons. We have organized the current notebook into the following sections: \n",
    "\n",
    "- [Introduction](#intro)\n",
    "- [Part I - Probability](#probability)\n",
    "- [Part II - A/B Test](#ab_test)\n",
    "- [Part III - Regression](#regression)\n",
    "- [Final Check](#finalcheck)\n",
    "- [Submission](#submission)\n",
    "\n",
    "Specific programming tasks are marked with a **ToDo** tag. \n",
    "\n",
    "<a id='intro'></a>\n",
    "## Introduction\n",
    "\n",
    "A/B tests are very commonly performed by data analysts and data scientists. For this project, you will be working to understand the results of an A/B test run by an e-commerce website.  Your goal is to work through this notebook to help the company understand if they should:\n",
    "- Implement the new webpage, \n",
    "- Keep the old webpage, or \n",
    "- Perhaps run the experiment longer to make their decision.\n",
    "\n",
    "Each **ToDo** task below has an associated quiz present in the classroom.  Though the classroom quizzes are **not necessary** to complete the project, they help ensure you are on the right track as you work through the project, and you can feel more confident in your final submission meeting the [rubric](https://review.udacity.com/#!/rubrics/1214/view) specification. \n",
    "\n",
    ">**Tip**: Though it's not a mandate, students can attempt the classroom quizzes to ensure statistical numeric values are calculated correctly in many cases.\n",
    "\n",
    "<a id='probability'></a>\n",
    "## Part I - Probability\n",
    "\n",
    "To get started, let's import our libraries."
   ]
  },
  {
   "cell_type": "code",
   "execution_count": 1,
   "metadata": {},
   "outputs": [],
   "source": [
    "import pandas as pd\n",
    "import numpy as np\n",
    "import random\n",
    "import matplotlib.pyplot as plt\n",
    "%matplotlib inline\n",
    "#We are setting the seed to assure you get the same answers on quizzes as we set up\n",
    "random.seed(42)"
   ]
  },
  {
   "cell_type": "markdown",
   "metadata": {},
   "source": [
    "### ToDo 1.1\n",
    "Now, read in the `ab_data.csv` data. Store it in `df`. Below is the description of the data, there are a total of 5 columns:\n",
    "\n",
    "<center>\n",
    "\n",
    "|Data columns|Purpose|Valid values|\n",
    "| ------------- |:-------------| -----:|\n",
    "|user_id|Unique ID|Int64 values|\n",
    "|timestamp|Time stamp when the user visited the webpage|-|\n",
    "|group|In the current A/B experiment, the users are categorized into two broad groups. <br>The `control` group users are expected to be served with `old_page`; and `treatment` group users are matched with the `new_page`. <br>However, **some inaccurate rows** are present in the initial data, such as a `control` group user is matched with a `new_page`. |`['control', 'treatment']`|\n",
    "|landing_page|It denotes whether the user visited the old or new webpage.|`['old_page', 'new_page']`|\n",
    "|converted|It denotes whether the user decided to pay for the company's product. Here, `1` means yes, the user bought the product.|`[0, 1]`|\n",
    "</center>\n",
    "Use your dataframe to answer the questions in Quiz 1 of the classroom.\n",
    "\n",
    "\n",
    ">**Tip**: Please save your work regularly.\n",
    "\n",
    "**a.** Read in the dataset from the `ab_data.csv` file and take a look at the top few rows here:"
   ]
  },
  {
   "cell_type": "code",
   "execution_count": 2,
   "metadata": {},
   "outputs": [],
   "source": [
    "ab_data_path = 'ab_data.csv'\n",
    "df = pd.read_csv(ab_data_path)"
   ]
  },
  {
   "cell_type": "markdown",
   "metadata": {},
   "source": [
    "**b.** Use the cell below to find the number of rows in the dataset."
   ]
  },
  {
   "cell_type": "code",
   "execution_count": 3,
   "metadata": {},
   "outputs": [
    {
     "data": {
      "text/plain": [
       "294478"
      ]
     },
     "execution_count": 3,
     "metadata": {},
     "output_type": "execute_result"
    }
   ],
   "source": [
    "num_rows = df.shape[0]\n",
    "num_rows"
   ]
  },
  {
   "cell_type": "markdown",
   "metadata": {},
   "source": [
    "**c.** The number of unique users in the dataset."
   ]
  },
  {
   "cell_type": "code",
   "execution_count": 4,
   "metadata": {},
   "outputs": [
    {
     "data": {
      "text/plain": [
       "290584"
      ]
     },
     "execution_count": 4,
     "metadata": {},
     "output_type": "execute_result"
    }
   ],
   "source": [
    "num_unique_users = df['user_id'].nunique()\n",
    "num_unique_users"
   ]
  },
  {
   "cell_type": "markdown",
   "metadata": {
    "collapsed": true
   },
   "source": [
    "**d.** The proportion of users converted."
   ]
  },
  {
   "cell_type": "code",
   "execution_count": 5,
   "metadata": {},
   "outputs": [
    {
     "data": {
      "text/plain": [
       "0.11965919355605512"
      ]
     },
     "execution_count": 5,
     "metadata": {},
     "output_type": "execute_result"
    }
   ],
   "source": [
    "conversion_rate = df['converted'].mean()\n",
    "conversion_rate"
   ]
  },
  {
   "cell_type": "markdown",
   "metadata": {
    "collapsed": true
   },
   "source": [
    "**e.** The number of times when the \"group\" is `treatment` but \"landing_page\" is not a `new_page`."
   ]
  },
  {
   "cell_type": "code",
   "execution_count": 6,
   "metadata": {},
   "outputs": [
    {
     "data": {
      "text/plain": [
       "1965"
      ]
     },
     "execution_count": 6,
     "metadata": {},
     "output_type": "execute_result"
    }
   ],
   "source": [
    "treatment_mismatch_count = df[(df['group'] == 'treatment') & (df['landing_page'] != 'new_page')].shape[0]\n",
    "\n",
    "treatment_mismatch_count"
   ]
  },
  {
   "cell_type": "markdown",
   "metadata": {},
   "source": [
    "**f.** Do any of the rows have missing values?"
   ]
  },
  {
   "cell_type": "code",
   "execution_count": 7,
   "metadata": {},
   "outputs": [
    {
     "data": {
      "text/plain": [
       "user_id         0\n",
       "timestamp       0\n",
       "group           0\n",
       "landing_page    0\n",
       "converted       0\n",
       "dtype: int64"
      ]
     },
     "execution_count": 7,
     "metadata": {},
     "output_type": "execute_result"
    }
   ],
   "source": [
    "missing_values = df.isnull().sum()\n",
    "missing_values"
   ]
  },
  {
   "cell_type": "markdown",
   "metadata": {},
   "source": [
    "### ToDo 1.2  \n",
    "In a particular row, the **group** and **landing_page** columns should have either of the following acceptable values:\n",
    "\n",
    "|user_id| timestamp|group|landing_page|converted|\n",
    "|---|---|---|---|---|\n",
    "|XXXX|XXXX|`control`| `old_page`|X |\n",
    "|XXXX|XXXX|`treatment`|`new_page`|X |\n",
    "\n",
    "\n",
    "It means, the `control` group users should match with `old_page`; and `treatment` group users should matched with the `new_page`. \n",
    "\n",
    "However, for the rows where `treatment` does not match with `new_page` or `control` does not match with `old_page`, we cannot be sure if such rows truly received the new or old wepage.  \n",
    "\n",
    "\n",
    "Use **Quiz 2** in the classroom to figure out how should we handle the rows where the group and landing_page columns don't match?\n",
    "\n",
    "**a.** Now use the answer to the quiz to create a new dataset that meets the specifications from the quiz.  Store your new dataframe in **df2**."
   ]
  },
  {
   "cell_type": "code",
   "execution_count": 8,
   "metadata": {},
   "outputs": [],
   "source": [
    "df2 = df[((df['group'] == 'treatment') & (df['landing_page'] == 'new_page')) |\n",
    "         ((df['group'] == 'control') & (df['landing_page'] == 'old_page'))]"
   ]
  },
  {
   "cell_type": "code",
   "execution_count": 9,
   "metadata": {},
   "outputs": [
    {
     "data": {
      "text/plain": [
       "0"
      ]
     },
     "execution_count": 9,
     "metadata": {},
     "output_type": "execute_result"
    }
   ],
   "source": [
    "# Double Check all of the incorrect rows were removed from df2 - \n",
    "# Output of the statement below should be 0\n",
    "df2[((df2['group'] == 'treatment') == (df2['landing_page'] == 'new_page')) == False].shape[0]"
   ]
  },
  {
   "cell_type": "markdown",
   "metadata": {},
   "source": [
    "### ToDo 1.3  \n",
    "Use **df2** and the cells below to answer questions for **Quiz 3** in the classroom."
   ]
  },
  {
   "cell_type": "markdown",
   "metadata": {},
   "source": [
    "**a.** How many unique **user_id**s are in **df2**?"
   ]
  },
  {
   "cell_type": "code",
   "execution_count": 10,
   "metadata": {},
   "outputs": [
    {
     "data": {
      "text/plain": [
       "290584"
      ]
     },
     "execution_count": 10,
     "metadata": {},
     "output_type": "execute_result"
    }
   ],
   "source": [
    "unique_users_df2 = df2['user_id'].nunique()\n",
    "unique_users_df2"
   ]
  },
  {
   "cell_type": "markdown",
   "metadata": {
    "collapsed": true
   },
   "source": [
    "**b.** There is one **user_id** repeated in **df2**.  What is it?"
   ]
  },
  {
   "cell_type": "code",
   "execution_count": 11,
   "metadata": {},
   "outputs": [
    {
     "data": {
      "text/plain": [
       "array([773192])"
      ]
     },
     "execution_count": 11,
     "metadata": {},
     "output_type": "execute_result"
    }
   ],
   "source": [
    "repeated_user_id = df2[df2['user_id'].duplicated()]['user_id'].unique()\n",
    "repeated_user_id"
   ]
  },
  {
   "cell_type": "markdown",
   "metadata": {},
   "source": [
    "**c.** Display the rows for the duplicate **user_id**? "
   ]
  },
  {
   "cell_type": "code",
   "execution_count": 12,
   "metadata": {},
   "outputs": [
    {
     "data": {
      "text/html": [
       "<div>\n",
       "<style scoped>\n",
       "    .dataframe tbody tr th:only-of-type {\n",
       "        vertical-align: middle;\n",
       "    }\n",
       "\n",
       "    .dataframe tbody tr th {\n",
       "        vertical-align: top;\n",
       "    }\n",
       "\n",
       "    .dataframe thead th {\n",
       "        text-align: right;\n",
       "    }\n",
       "</style>\n",
       "<table border=\"1\" class=\"dataframe\">\n",
       "  <thead>\n",
       "    <tr style=\"text-align: right;\">\n",
       "      <th></th>\n",
       "      <th>user_id</th>\n",
       "      <th>timestamp</th>\n",
       "      <th>group</th>\n",
       "      <th>landing_page</th>\n",
       "      <th>converted</th>\n",
       "    </tr>\n",
       "  </thead>\n",
       "  <tbody>\n",
       "    <tr>\n",
       "      <th>1899</th>\n",
       "      <td>773192</td>\n",
       "      <td>2017-01-09 05:37:58.781806</td>\n",
       "      <td>treatment</td>\n",
       "      <td>new_page</td>\n",
       "      <td>0</td>\n",
       "    </tr>\n",
       "    <tr>\n",
       "      <th>2893</th>\n",
       "      <td>773192</td>\n",
       "      <td>2017-01-14 02:55:59.590927</td>\n",
       "      <td>treatment</td>\n",
       "      <td>new_page</td>\n",
       "      <td>0</td>\n",
       "    </tr>\n",
       "  </tbody>\n",
       "</table>\n",
       "</div>"
      ],
      "text/plain": [
       "      user_id                   timestamp      group landing_page  converted\n",
       "1899   773192  2017-01-09 05:37:58.781806  treatment     new_page          0\n",
       "2893   773192  2017-01-14 02:55:59.590927  treatment     new_page          0"
      ]
     },
     "execution_count": 12,
     "metadata": {},
     "output_type": "execute_result"
    }
   ],
   "source": [
    "repeated_user_info = df2[df2['user_id'] == 773192]\n",
    "repeated_user_info"
   ]
  },
  {
   "cell_type": "markdown",
   "metadata": {},
   "source": [
    "**d.** Remove **one** of the rows with a duplicate **user_id**, from the **df2** dataframe."
   ]
  },
  {
   "cell_type": "code",
   "execution_count": 13,
   "metadata": {},
   "outputs": [
    {
     "data": {
      "text/html": [
       "<div>\n",
       "<style scoped>\n",
       "    .dataframe tbody tr th:only-of-type {\n",
       "        vertical-align: middle;\n",
       "    }\n",
       "\n",
       "    .dataframe tbody tr th {\n",
       "        vertical-align: top;\n",
       "    }\n",
       "\n",
       "    .dataframe thead th {\n",
       "        text-align: right;\n",
       "    }\n",
       "</style>\n",
       "<table border=\"1\" class=\"dataframe\">\n",
       "  <thead>\n",
       "    <tr style=\"text-align: right;\">\n",
       "      <th></th>\n",
       "      <th>user_id</th>\n",
       "      <th>timestamp</th>\n",
       "      <th>group</th>\n",
       "      <th>landing_page</th>\n",
       "      <th>converted</th>\n",
       "    </tr>\n",
       "  </thead>\n",
       "  <tbody>\n",
       "    <tr>\n",
       "      <th>1899</th>\n",
       "      <td>773192</td>\n",
       "      <td>2017-01-09 05:37:58.781806</td>\n",
       "      <td>treatment</td>\n",
       "      <td>new_page</td>\n",
       "      <td>0</td>\n",
       "    </tr>\n",
       "  </tbody>\n",
       "</table>\n",
       "</div>"
      ],
      "text/plain": [
       "      user_id                   timestamp      group landing_page  converted\n",
       "1899   773192  2017-01-09 05:37:58.781806  treatment     new_page          0"
      ]
     },
     "execution_count": 13,
     "metadata": {},
     "output_type": "execute_result"
    }
   ],
   "source": [
    "df2 = df2.drop_duplicates(subset='user_id', keep='first')\n",
    "\n",
    "# Verify that the duplicate has been removed\n",
    "df2[df2['user_id'] == 773192]\n"
   ]
  },
  {
   "cell_type": "markdown",
   "metadata": {},
   "source": [
    "### ToDo 1.4  \n",
    "Use **df2** in the cells below to answer the quiz questions related to **Quiz 4** in the classroom.\n",
    "\n",
    "**a.** What is the probability of an individual converting regardless of the page they receive?<br><br>\n",
    "\n",
    ">**Tip**: The probability  you'll compute represents the overall \"converted\" success rate in the population and you may call it $p_{population}$.\n",
    "\n"
   ]
  },
  {
   "cell_type": "code",
   "execution_count": 14,
   "metadata": {},
   "outputs": [
    {
     "data": {
      "text/plain": [
       "0.11959708724499628"
      ]
     },
     "execution_count": 14,
     "metadata": {},
     "output_type": "execute_result"
    }
   ],
   "source": [
    "overall_conversion_rate = df2['converted'].mean()\n",
    "overall_conversion_rate"
   ]
  },
  {
   "cell_type": "markdown",
   "metadata": {},
   "source": [
    "**b.** Given that an individual was in the `control` group, what is the probability they converted?"
   ]
  },
  {
   "cell_type": "code",
   "execution_count": 15,
   "metadata": {},
   "outputs": [
    {
     "data": {
      "text/plain": [
       "0.1203863045004612"
      ]
     },
     "execution_count": 15,
     "metadata": {},
     "output_type": "execute_result"
    }
   ],
   "source": [
    "control_conversion_rate = df2[df2['group'] == 'control']['converted'].mean()\n",
    "control_conversion_rate"
   ]
  },
  {
   "cell_type": "markdown",
   "metadata": {},
   "source": [
    "**c.** Given that an individual was in the `treatment` group, what is the probability they converted?"
   ]
  },
  {
   "cell_type": "code",
   "execution_count": 16,
   "metadata": {},
   "outputs": [
    {
     "data": {
      "text/plain": [
       "0.11880806551510564"
      ]
     },
     "execution_count": 16,
     "metadata": {},
     "output_type": "execute_result"
    }
   ],
   "source": [
    "treatment_conversion_rate = df2[df2['group'] == 'treatment']['converted'].mean()\n",
    "treatment_conversion_rate"
   ]
  },
  {
   "cell_type": "markdown",
   "metadata": {},
   "source": [
    ">**Tip**: The probabilities you've computed in the points (b). and (c). above can also be treated as conversion rate. \n",
    "Calculate the actual difference  (`obs_diff`) between the conversion rates for the two groups. You will need that later.  "
   ]
  },
  {
   "cell_type": "code",
   "execution_count": 17,
   "metadata": {},
   "outputs": [
    {
     "data": {
      "text/plain": [
       "-0.0015782389853555567"
      ]
     },
     "execution_count": 17,
     "metadata": {},
     "output_type": "execute_result"
    }
   ],
   "source": [
    "# Calculate the actual difference (obs_diff) between the conversion rates for the two groups.\n",
    "obs_diff = treatment_conversion_rate - control_conversion_rate\n",
    "obs_diff"
   ]
  },
  {
   "cell_type": "markdown",
   "metadata": {},
   "source": [
    "**d.** What is the probability that an individual received the new page?"
   ]
  },
  {
   "cell_type": "code",
   "execution_count": 18,
   "metadata": {},
   "outputs": [
    {
     "data": {
      "text/plain": [
       "0.50006194422266881"
      ]
     },
     "execution_count": 18,
     "metadata": {},
     "output_type": "execute_result"
    }
   ],
   "source": [
    "new_page_probability = (df2['landing_page'] == 'new_page').mean()\n",
    "new_page_probability"
   ]
  },
  {
   "cell_type": "markdown",
   "metadata": {},
   "source": [
    "**e.** Consider your results from parts (a) through (d) above, and explain below whether the new `treatment` group users lead to more conversions."
   ]
  },
  {
   "cell_type": "markdown",
   "metadata": {},
   "source": [
    ">The conversion rate for the control group is slightly higher (12.04%) compared to the treatment group (11.88%). The difference is very small, and given that the overall conversion rate is close to both individual group rates, there doesn't appear to be strong evidence suggesting that the new page leads to more conversions. Based on this basic comparison, there isn't sufficient evidence to conclude that the new treatment page leads to more conversions."
   ]
  },
  {
   "cell_type": "markdown",
   "metadata": {},
   "source": [
    "<a id='ab_test'></a>\n",
    "## Part II - A/B Test\n",
    "\n",
    "Since a timestamp is associated with each event, you could run a hypothesis test continuously as long as you observe the events. \n",
    "\n",
    "However, then the hard questions would be: \n",
    "- Do you stop as soon as one page is considered significantly better than another or does it need to happen consistently for a certain amount of time?  \n",
    "- How long do you run to render a decision that neither page is better than another?  \n",
    "\n",
    "These questions are the difficult parts associated with A/B tests in general.  \n",
    "\n",
    "\n",
    "### ToDo 2.1\n",
    "For now, consider you need to make the decision just based on all the data provided.  \n",
    "\n",
    "> Recall that you just calculated that the \"converted\" probability (or rate) for the old page is *slightly* higher than that of the new page (ToDo 1.4.c). \n",
    "\n",
    "If you want to assume that the old page is better unless the new page proves to be definitely better at a Type I error rate of 5%, what should be your null and alternative hypotheses (**$H_0$** and **$H_1$**)?  \n",
    "\n",
    "You can state your hypothesis in terms of words or in terms of **$p_{old}$** and **$p_{new}$**, which are the \"converted\" probability (or rate) for the old and new pages respectively."
   ]
  },
  {
   "cell_type": "markdown",
   "metadata": {},
   "source": [
    "Given that we want to assume the old page is better unless the new page proves to be better, and we're working with a Type I error rate of 5% (α = 0.05), the hypotheses would be:\n",
    "\n",
    "Null Hypothesis (H₀): The conversion rate for the new page is less than or equal to the conversion rate for the old page.\n",
    "- 𝐻0: 𝑝𝑛𝑒𝑤 is less than or equal to 𝑝𝑜𝑙𝑑\n",
    "\n",
    "This implies that the new page is not better than the old page in terms of conversion rate.\n",
    "\n",
    "Alternative Hypothesis (H₁): The conversion rate for the new page is greater than the conversion rate for the old page.\n",
    "- 𝐻1: 𝑝𝑛𝑒𝑤 is greater than 𝑝𝑜𝑙𝑑\n",
    "\n",
    "This alternative suggests that the new page has a higher conversion rate than the old page."
   ]
  },
  {
   "cell_type": "markdown",
   "metadata": {},
   "source": [
    "### ToDo 2.2 - Null Hypothesis $H_0$ Testing\n",
    "Under the null hypothesis $H_0$, assume that $p_{new}$ and $p_{old}$ are equal. Furthermore, assume that $p_{new}$ and $p_{old}$ both are equal to the **converted** success rate in the `df2` data regardless of the page. So, our assumption is: <br><br>\n",
    "<center>\n",
    "$p_{new}$ = $p_{old}$ = $p_{population}$\n",
    "</center>\n",
    "\n",
    "In this section, you will: \n",
    "\n",
    "- Simulate (bootstrap) sample data set for both groups, and compute the  \"converted\" probability $p$ for those samples. \n",
    "\n",
    "\n",
    "- Use a sample size for each group equal to the ones in the `df2` data.\n",
    "\n",
    "\n",
    "- Compute the difference in the \"converted\" probability for the two samples above. \n",
    "\n",
    "\n",
    "- Perform the sampling distribution for the \"difference in the converted probability\" between the two simulated-samples over 10,000 iterations; and calculate an estimate. \n",
    "\n",
    "\n",
    "\n",
    "Use the cells below to provide the necessary parts of this simulation.  You can use **Quiz 5** in the classroom to make sure you are on the right track."
   ]
  },
  {
   "cell_type": "markdown",
   "metadata": {},
   "source": [
    "**a.** What is the **conversion rate** for $p_{new}$ under the null hypothesis? "
   ]
  },
  {
   "cell_type": "code",
   "execution_count": 19,
   "metadata": {},
   "outputs": [
    {
     "data": {
      "text/plain": [
       "0.11959708724499628"
      ]
     },
     "execution_count": 19,
     "metadata": {},
     "output_type": "execute_result"
    }
   ],
   "source": [
    "p_population = df2['converted'].mean()\n",
    "p_population"
   ]
  },
  {
   "cell_type": "markdown",
   "metadata": {},
   "source": [
    "**b.** What is the **conversion rate** for $p_{old}$ under the null hypothesis? "
   ]
  },
  {
   "cell_type": "code",
   "execution_count": 20,
   "metadata": {},
   "outputs": [
    {
     "data": {
      "text/plain": [
       "0.11959708724499628"
      ]
     },
     "execution_count": 20,
     "metadata": {},
     "output_type": "execute_result"
    }
   ],
   "source": [
    "p_population = df2['converted'].mean()\n",
    "p_population"
   ]
  },
  {
   "cell_type": "markdown",
   "metadata": {},
   "source": [
    "**c.** What is $n_{new}$, the number of individuals in the treatment group? <br><br>\n",
    "*Hint*: The treatment group users are shown the new page."
   ]
  },
  {
   "cell_type": "code",
   "execution_count": 21,
   "metadata": {},
   "outputs": [
    {
     "data": {
      "text/plain": [
       "145310"
      ]
     },
     "execution_count": 21,
     "metadata": {},
     "output_type": "execute_result"
    }
   ],
   "source": [
    "n_new = df2[df2['group'] == 'treatment'].shape[0]\n",
    "n_new"
   ]
  },
  {
   "cell_type": "markdown",
   "metadata": {},
   "source": [
    "**d.** What is $n_{old}$, the number of individuals in the control group?"
   ]
  },
  {
   "cell_type": "code",
   "execution_count": 22,
   "metadata": {},
   "outputs": [
    {
     "data": {
      "text/plain": [
       "145274"
      ]
     },
     "execution_count": 22,
     "metadata": {},
     "output_type": "execute_result"
    }
   ],
   "source": [
    "n_old = df2[df2['group'] == 'control'].shape[0]\n",
    "n_old"
   ]
  },
  {
   "cell_type": "markdown",
   "metadata": {},
   "source": [
    "**e. Simulate Sample for the `treatment` Group**<br> \n",
    "Simulate $n_{new}$ transactions with a conversion rate of $p_{new}$ under the null hypothesis.  <br><br>\n",
    "*Hint*: Use `numpy.random.choice()` method to randomly generate $n_{new}$ number of values. <br>\n",
    "Store these $n_{new}$ 1's and 0's in the `new_page_converted` numpy array.\n"
   ]
  },
  {
   "cell_type": "code",
   "execution_count": 23,
   "metadata": {},
   "outputs": [
    {
     "data": {
      "text/plain": [
       "array([0, 0, 0, 0, 0, 0, 0, 0, 0, 0])"
      ]
     },
     "execution_count": 23,
     "metadata": {},
     "output_type": "execute_result"
    }
   ],
   "source": [
    "# Simulate n_new transactions with a conversion rate of p_new under the null hypothesis\n",
    "new_page_converted = np.random.choice([0, 1], size=n_new, p=[1 - p_population, p_population])\n",
    "\n",
    "# Display the first few entries of the simulated array\n",
    "new_page_converted[:10]"
   ]
  },
  {
   "cell_type": "markdown",
   "metadata": {},
   "source": [
    "**f. Simulate Sample for the `control` Group** <br>\n",
    "Simulate $n_{old}$ transactions with a conversion rate of $p_{old}$ under the null hypothesis. <br> Store these $n_{old}$ 1's and 0's in the `old_page_converted` numpy array."
   ]
  },
  {
   "cell_type": "code",
   "execution_count": 24,
   "metadata": {},
   "outputs": [
    {
     "data": {
      "text/plain": [
       "array([0, 0, 0, 0, 0, 0, 0, 0, 0, 0])"
      ]
     },
     "execution_count": 24,
     "metadata": {},
     "output_type": "execute_result"
    }
   ],
   "source": [
    "# Simulate n_old transactions with a conversion rate of p_old under the null hypothesis\n",
    "old_page_converted = np.random.choice([0, 1], size=n_old, p=[1 - p_population, p_population])\n",
    "\n",
    "# Display the first few entries of the simulated array\n",
    "old_page_converted[:10]"
   ]
  },
  {
   "cell_type": "markdown",
   "metadata": {},
   "source": [
    "**g.** Find the difference in the \"converted\" probability $(p{'}_{new}$ - $p{'}_{old})$ for your simulated samples from the parts (e) and (f) above. "
   ]
  },
  {
   "cell_type": "code",
   "execution_count": 25,
   "metadata": {},
   "outputs": [
    {
     "data": {
      "text/plain": [
       "-0.0003532102807014964"
      ]
     },
     "execution_count": 25,
     "metadata": {},
     "output_type": "execute_result"
    }
   ],
   "source": [
    "# Calculate the converted probabilities for the new and old pages from the simulated samples\n",
    "p_new_simulated = new_page_converted.mean()\n",
    "p_old_simulated = old_page_converted.mean()\n",
    "\n",
    "# Find the difference in converted probabilities between new and old pages\n",
    "simulated_diff = p_new_simulated - p_old_simulated\n",
    "simulated_diff"
   ]
  },
  {
   "cell_type": "markdown",
   "metadata": {},
   "source": [
    "\n",
    "**h. Sampling distribution** <br>\n",
    "Re-create `new_page_converted` and `old_page_converted` and find the $(p{'}_{new}$ - $p{'}_{old})$ value 10,000 times using the same simulation process you used in parts (a) through (g) above. \n",
    "\n",
    "<br>\n",
    "Store all  $(p{'}_{new}$ - $p{'}_{old})$  values in a NumPy array called `p_diffs`."
   ]
  },
  {
   "cell_type": "code",
   "execution_count": 26,
   "metadata": {},
   "outputs": [],
   "source": [
    "# Sampling distribution \n",
    "p_diffs = []\n",
    "\n",
    "# Perform the simulation 10,000 times\n",
    "for _ in range(10000):\n",
    "    # Simulate new_page_converted and old_page_converted arrays\n",
    "    new_page_converted = np.random.choice([0, 1], size=n_new, p=[1 - p_population, p_population])\n",
    "    old_page_converted = np.random.choice([0, 1], size=n_old, p=[1 - p_population, p_population])\n",
    "    \n",
    "    # Calculate the converted probabilities for new and old pages\n",
    "    p_new_simulated = new_page_converted.mean()\n",
    "    p_old_simulated = old_page_converted.mean()\n",
    "    \n",
    "    # Append the difference to p_diffs\n",
    "    p_diffs.append(p_new_simulated - p_old_simulated)\n",
    "\n",
    "# Convert the list to a NumPy array\n",
    "p_diffs = np.array(p_diffs)"
   ]
  },
  {
   "cell_type": "markdown",
   "metadata": {},
   "source": [
    "**i. Histogram**<br> \n",
    "Plot a histogram of the **p_diffs**.  Does this plot look like what you expected?  Use the matching problem in the classroom to assure you fully understand what was computed here.<br><br>\n",
    "\n",
    "Also, use `plt.axvline()` method to mark the actual difference observed  in the `df2` data (recall `obs_diff`), in the chart.  \n",
    "\n",
    ">**Tip**: Display title, x-label, and y-label in the chart."
   ]
  },
  {
   "cell_type": "code",
   "execution_count": 27,
   "metadata": {},
   "outputs": [
    {
     "data": {
      "image/png": "[encoded data removed]",
      "text/plain": [
       "<matplotlib.figure.Figure at 0x788a6a8c96a0>"
      ]
     },
     "metadata": {
      "needs_background": "light"
     },
     "output_type": "display_data"
    }
   ],
   "source": [
    "# Recalculate treatment and control conversion rates\n",
    "treatment_conversion_rate = df2[df2['group'] == 'treatment']['converted'].mean()\n",
    "control_conversion_rate = df2[df2['group'] == 'control']['converted'].mean()\n",
    "\n",
    "# Now replot the histogram\n",
    "plt.hist(p_diffs, bins=30, alpha=0.7)\n",
    "plt.title('Sampling Distribution of Differences in Conversion Rates')\n",
    "plt.xlabel('Difference in Conversion Rates (p_new - p_old)')\n",
    "plt.ylabel('Frequency')\n",
    "\n",
    "# Mark the actual observed difference (obs_diff) with a vertical line\n",
    "obs_diff = treatment_conversion_rate - control_conversion_rate\n",
    "plt.axvline(obs_diff, color='red', linestyle='dashed', linewidth=1, label=f'Observed Difference: {obs_diff:.5f}')\n",
    "\n",
    "# Add a legend\n",
    "plt.legend()\n",
    "\n",
    "# Show the plot\n",
    "plt.show()"
   ]
  },
  {
   "cell_type": "markdown",
   "metadata": {},
   "source": [
    "**j.** What proportion of the **p_diffs** are greater than the actual difference observed in the `df2` data?"
   ]
  },
  {
   "cell_type": "code",
   "execution_count": 28,
   "metadata": {},
   "outputs": [
    {
     "data": {
      "text/plain": [
       "0.90690000000000004"
      ]
     },
     "execution_count": 28,
     "metadata": {},
     "output_type": "execute_result"
    }
   ],
   "source": [
    "# Calculate the proportion of p_diffs that are greater than the observed difference\n",
    "proportion_greater = (p_diffs > obs_diff).mean()\n",
    "proportion_greater"
   ]
  },
  {
   "cell_type": "markdown",
   "metadata": {},
   "source": [
    "**k.** Please explain in words what you have just computed in part **j** above.  \n",
    " - What is this value called in scientific studies?  \n",
    " - What does this value signify in terms of whether or not there is a difference between the new and old pages? *Hint*: Compare the value above with the \"Type I error rate (0.05)\". "
   ]
  },
  {
   "cell_type": "markdown",
   "metadata": {},
   "source": [
    "> In part j, we computed the p-value, which is a common term in scientific studies. The p-value represents the proportion of the simulated differences in conversion rates (under the null hypothesis) that are greater than the observed difference from the actual data.\n",
    "\n",
    "> Interpretation:\n",
    "A p-value of 0.906 means that 90.6% of the simulated differences are greater than the observed difference, suggesting that the observed difference is not unusual under the null hypothesis.This value is much higher than the commonly used Type I error rate of 0.05. The Type I error rate (α) is the threshold for rejecting the null hypothesis. If the p-value is less than α, it would reject the null hypothesis and conclude that there is a statistically significant difference.\n",
    "\n",
    "> Conclusion:\n",
    "Since the p-value (0.906) is significantly larger than 0.05, it fails to reject the null hypothesis. This implies there is no strong evidence to conclude that the new page leads to more conversions than the old page. The difference observed in the conversion rates is likely due to random chance."
   ]
  },
  {
   "cell_type": "markdown",
   "metadata": {},
   "source": [
    "\n",
    "\n",
    "**l. Using Built-in Methods for Hypothesis Testing**<br>\n",
    "We could also use a built-in to achieve similar results.  Though using the built-in might be easier to code, the above portions are a walkthrough of the ideas that are critical to correctly thinking about statistical significance. \n",
    "\n",
    "Fill in the statements below to calculate the:\n",
    "- `convert_old`: number of conversions with the old_page\n",
    "- `convert_new`: number of conversions with the new_page\n",
    "- `n_old`: number of individuals who were shown the old_page\n",
    "- `n_new`: number of individuals who were shown the new_page\n"
   ]
  },
  {
   "cell_type": "code",
   "execution_count": 29,
   "metadata": {},
   "outputs": [
    {
     "name": "stderr",
     "output_type": "stream",
     "text": [
      "/opt/conda/lib/python3.6/site-packages/statsmodels/compat/pandas.py:56: FutureWarning: The pandas.core.datetools module is deprecated and will be removed in a future version. Please use the pandas.tseries module instead.\n",
      "  from pandas.core import datetools\n"
     ]
    }
   ],
   "source": [
    "import statsmodels.api as sm\n",
    "\n",
    "# number of conversions with the old_page\n",
    "convert_old = 17,489\n",
    "\n",
    "# number of conversions with the new_page\n",
    "convert_new = 17,264\n",
    "\n",
    "# number of individuals who were shown the old_page\n",
    "n_old = 145,274\n",
    "\n",
    "# number of individuals who received new_page\n",
    "n_new = 145,310"
   ]
  },
  {
   "cell_type": "markdown",
   "metadata": {},
   "source": [
    "**m.** Now use `sm.stats.proportions_ztest()` to compute your test statistic and p-value.  [Here](https://www.statsmodels.org/stable/generated/statsmodels.stats.proportion.proportions_ztest.html) is a helpful link on using the built in.\n",
    "\n",
    "The syntax is: \n",
    "```bash\n",
    "proportions_ztest(count_array, nobs_array, alternative='larger')\n",
    "```\n",
    "where, \n",
    "- `count_array` = represents the number of \"converted\" for each group\n",
    "- `nobs_array` = represents the total number of observations (rows) in each group\n",
    "- `alternative` = choose one of the values from `[‘two-sided’, ‘smaller’, ‘larger’]` depending upon two-tailed, left-tailed, or right-tailed respectively. \n",
    ">**Hint**: <br>\n",
    "It's a two-tailed if you defined $H_1$ as $(p_{new} = p_{old})$. <br>\n",
    "It's a left-tailed if you defined $H_1$ as $(p_{new} < p_{old})$. <br>\n",
    "It's a right-tailed if you defined $H_1$ as $(p_{new} > p_{old})$. \n",
    "\n",
    "The built-in function above will return the z_score, p_value. \n",
    "\n",
    "---\n",
    "### About the two-sample z-test\n",
    "Recall that you have plotted a distribution `p_diffs` representing the\n",
    "difference in the \"converted\" probability  $(p{'}_{new}-p{'}_{old})$  for your two simulated samples 10,000 times. \n",
    "\n",
    "Another way for comparing the mean of two independent and normal distribution is a **two-sample z-test**. You can perform the Z-test to calculate the Z_score, as shown in the equation below:\n",
    "\n",
    "$$\n",
    "Z_{score} = \\frac{ (p{'}_{new}-p{'}_{old}) - (p_{new}  -  p_{old})}{ \\sqrt{ \\frac{\\sigma^{2}_{new} }{n_{new}} + \\frac{\\sigma^{2}_{old} }{n_{old}}  } }\n",
    "$$\n",
    "\n",
    "where,\n",
    "- $p{'}$ is the \"converted\" success rate in the sample\n",
    "- $p_{new}$ and $p_{old}$ are the \"converted\" success rate for the two groups in the population. \n",
    "- $\\sigma_{new}$ and $\\sigma_{new}$ are the standard deviation for the two groups in the population. \n",
    "- $n_{new}$ and $n_{old}$ represent the size of the two groups or samples (it's same in our case)\n",
    "\n",
    "\n",
    ">Z-test is performed when the sample size is large, and the population variance is known. The z-score represents the distance between the two \"converted\" success rates in terms of the standard error. \n",
    "\n",
    "Next step is to make a decision to reject or fail to reject the null hypothesis based on comparing these two values: \n",
    "- $Z_{score}$\n",
    "- $Z_{\\alpha}$ or $Z_{0.05}$, also known as critical value at 95% confidence interval.  $Z_{0.05}$ is 1.645 for one-tailed tests,  and 1.960 for two-tailed test. You can determine the $Z_{\\alpha}$ from the z-table manually. \n",
    "\n",
    "Decide if your hypothesis is either a two-tailed, left-tailed, or right-tailed test. Accordingly, reject OR fail to reject the  null based on the comparison between $Z_{score}$ and $Z_{\\alpha}$. \n",
    ">Hint:<br>\n",
    "For a right-tailed test, reject null if $Z_{score}$ > $Z_{\\alpha}$. <br>\n",
    "For a left-tailed test, reject null if $Z_{score}$ < $Z_{\\alpha}$. \n",
    "\n",
    "\n",
    "In other words, we determine whether or not the $Z_{score}$ lies in the \"rejection region\" in the distribution. A \"rejection region\" is an interval where the null hypothesis is rejected iff the $Z_{score}$ lies in that region.\n",
    "\n",
    "\n",
    "\n",
    "Reference: \n",
    "- Example 9.1.2 on this [page](https://stats.libretexts.org/Bookshelves/Introductory_Statistics/Book%3A_Introductory_Statistics_(Shafer_and_Zhang)/09%3A_Two-Sample_Problems/9.01%3A_Comparison_of_Two_Population_Means-_Large_Independent_Samples), courtesy www.stats.libretexts.org\n",
    "\n",
    "---\n",
    "\n",
    ">**Tip**: You don't have to dive deeper into z-test for this exercise. **Try having an overview of what does z-score signify in general.** "
   ]
  },
  {
   "cell_type": "code",
   "execution_count": 30,
   "metadata": {},
   "outputs": [
    {
     "name": "stdout",
     "output_type": "stream",
     "text": [
      "-1.31092419842 0.905058312759\n"
     ]
    }
   ],
   "source": [
    "import statsmodels.api as sm\n",
    "\n",
    "# Calculate number of conversions and observations for both groups\n",
    "convert_old = df2[(df2['group'] == 'control') & (df2['converted'] == 1)].shape[0]\n",
    "convert_new = df2[(df2['group'] == 'treatment') & (df2['converted'] == 1)].shape[0]\n",
    "n_old = df2[df2['group'] == 'control'].shape[0]\n",
    "n_new = df2[df2['group'] == 'treatment'].shape[0]\n",
    "\n",
    "# Perform the z-test using sm.stats.proportions_ztest\n",
    "count_array = [convert_new, convert_old]  # number of conversions for new_page and old_page\n",
    "nobs_array = [n_new, n_old]  # total number of observations for new_page and old_page\n",
    "\n",
    "# Right-tailed test ('larger')\n",
    "z_score, p_value = sm.stats.proportions_ztest(count_array, nobs_array, alternative='larger')\n",
    "print(z_score, p_value)"
   ]
  },
  {
   "cell_type": "markdown",
   "metadata": {},
   "source": [
    "**n.** What do the z-score and p-value you computed in the previous question mean for the conversion rates of the old and new pages?  Do they agree with the findings in parts **j.** and **k.**?<br><br>\n",
    "\n",
    ">**Tip**: Notice whether the p-value is similar to the one computed earlier. Accordingly, can you reject/fail to reject the null hypothesis? It is important to correctly interpret the test statistic and p-value."
   ]
  },
  {
   "cell_type": "markdown",
   "metadata": {},
   "source": [
    ">z-score (-1.31): This negative value means that the conversion rate for the new page is lower than the conversion rate for the old page, contrary to what we hypothesized (that the new page would be better).\n",
    "p-value (0.905): This high p-value indicates that the difference observed between the conversion rates of the new and old pages is not statistically significant. In fact, a p-value this large suggests that there is a very high likelihood that the observed difference is due to random chance. It means we fail to reject the null hypothesis.\n",
    "\n",
    "> Yes, the results are consistent with what we found in parts j and k:\n",
    "In part j, finding that about 90.4% of the simulated differences were greater than the actual observed difference, which implies that the observed difference is not statistically significant. In part k, the conclusion reached that the p-value being much greater than the Type I error rate (0.05) means there isn't sufficient evidence to claim that the new page performs better."
   ]
  },
  {
   "cell_type": "markdown",
   "metadata": {},
   "source": [
    "<a id='regression'></a>\n",
    "### Part III - A regression approach\n",
    "\n",
    "### ToDo 3.1 \n",
    "In this final part, you will see that the result you achieved in the A/B test in Part II above can also be achieved by performing regression.<br><br> \n",
    "\n",
    "**a.** Since each row in the `df2` data is either a conversion or no conversion, what type of regression should you be performing in this case?"
   ]
  },
  {
   "cell_type": "markdown",
   "metadata": {},
   "source": [
    ">Since each row in the df2 data represents a binary outcome (either a conversion or no conversion), the appropriate type of regression to perform is logistic regression."
   ]
  },
  {
   "cell_type": "markdown",
   "metadata": {},
   "source": [
    "**b.** The goal is to use **statsmodels** library to fit the regression model you specified in part **a.** above to see if there is a significant difference in conversion based on the page-type a customer receives. However, you first need to create the following two columns in the `df2` dataframe:\n",
    " 1. `intercept` - It should be `1` in the entire column. \n",
    " 2. `ab_page` - It's a dummy variable column, having a value `1` when an individual receives the **treatment**, otherwise `0`.  "
   ]
  },
  {
   "cell_type": "code",
   "execution_count": 31,
   "metadata": {},
   "outputs": [
    {
     "data": {
      "text/html": [
       "<div>\n",
       "<style scoped>\n",
       "    .dataframe tbody tr th:only-of-type {\n",
       "        vertical-align: middle;\n",
       "    }\n",
       "\n",
       "    .dataframe tbody tr th {\n",
       "        vertical-align: top;\n",
       "    }\n",
       "\n",
       "    .dataframe thead th {\n",
       "        text-align: right;\n",
       "    }\n",
       "</style>\n",
       "<table border=\"1\" class=\"dataframe\">\n",
       "  <thead>\n",
       "    <tr style=\"text-align: right;\">\n",
       "      <th></th>\n",
       "      <th>intercept</th>\n",
       "      <th>ab_page</th>\n",
       "    </tr>\n",
       "  </thead>\n",
       "  <tbody>\n",
       "    <tr>\n",
       "      <th>0</th>\n",
       "      <td>1</td>\n",
       "      <td>0</td>\n",
       "    </tr>\n",
       "    <tr>\n",
       "      <th>1</th>\n",
       "      <td>1</td>\n",
       "      <td>0</td>\n",
       "    </tr>\n",
       "    <tr>\n",
       "      <th>2</th>\n",
       "      <td>1</td>\n",
       "      <td>1</td>\n",
       "    </tr>\n",
       "    <tr>\n",
       "      <th>3</th>\n",
       "      <td>1</td>\n",
       "      <td>1</td>\n",
       "    </tr>\n",
       "    <tr>\n",
       "      <th>4</th>\n",
       "      <td>1</td>\n",
       "      <td>0</td>\n",
       "    </tr>\n",
       "  </tbody>\n",
       "</table>\n",
       "</div>"
      ],
      "text/plain": [
       "   intercept  ab_page\n",
       "0          1        0\n",
       "1          1        0\n",
       "2          1        1\n",
       "3          1        1\n",
       "4          1        0"
      ]
     },
     "execution_count": 31,
     "metadata": {},
     "output_type": "execute_result"
    }
   ],
   "source": [
    "# Add the intercept column with all values set to 1\n",
    "df2['intercept'] = 1\n",
    "\n",
    "# Create the ab_page column: 1 for treatment group (new page), 0 for control group (old page)\n",
    "df2['ab_page'] = (df2['group'] == 'treatment').astype(int)\n",
    "\n",
    "# Display the first few rows to verify\n",
    "df2[['intercept', 'ab_page']].head()"
   ]
  },
  {
   "cell_type": "markdown",
   "metadata": {},
   "source": [
    "**c.** Use **statsmodels** to instantiate your regression model on the two columns you created in part (b). above, then fit the model to predict whether or not an individual converts. \n"
   ]
  },
  {
   "cell_type": "code",
   "execution_count": 32,
   "metadata": {},
   "outputs": [
    {
     "name": "stdout",
     "output_type": "stream",
     "text": [
      "Optimization terminated successfully.\n",
      "         Current function value: 0.366118\n",
      "         Iterations 6\n"
     ]
    }
   ],
   "source": [
    "import statsmodels.api as sm\n",
    "import scipy.stats as stats\n",
    "\n",
    "# Define the independent variables (intercept and ab_page) and the dependent variable (converted)\n",
    "X = df2[['intercept', 'ab_page']]\n",
    "y = df2['converted']\n",
    "\n",
    "# Instantiate and fit the logistic regression model\n",
    "logit_model = sm.Logit(y, X)\n",
    "result = logit_model.fit()\n",
    "\n",
    "# Manually calculate the LLR p-value using the chi-square distribution\n",
    "llr_pvalue = stats.chi2.sf(result.llr, result.df_model)\n",
    "\n",
    "# Manually extract the key metrics\n",
    "coef = result.params  # Coefficients\n",
    "pvalues = result.pvalues  # P-values\n",
    "conf = result.conf_int()  # Confidence intervals"
   ]
  },
  {
   "cell_type": "markdown",
   "metadata": {},
   "source": [
    "**d.** Provide the summary of your model below, and use it as necessary to answer the following questions."
   ]
  },
  {
   "cell_type": "code",
   "execution_count": 33,
   "metadata": {},
   "outputs": [
    {
     "name": "stdout",
     "output_type": "stream",
     "text": [
      "Logit Regression Results\n",
      "===================================\n",
      "Intercept Coefficient: -1.9888\n",
      "ab_page Coefficient: -0.0150\n",
      "-----\n",
      "Intercept P-value: 0\n",
      "ab_page P-value: 0.1899\n",
      "-----\n",
      "Intercept 95% CI: [-2.0046, -1.9730]\n",
      "ab_page 95% CI: [-0.0374, 0.0074]\n",
      "-----\n",
      "Manually Computed LLR p-value: 0.1899\n"
     ]
    }
   ],
   "source": [
    "# Print the regression output manually\n",
    "print(\"Logit Regression Results\")\n",
    "print(\"===================================\")\n",
    "print(f\"Intercept Coefficient: {coef['intercept']:.4f}\")\n",
    "print(f\"ab_page Coefficient: {coef['ab_page']:.4f}\")\n",
    "print(\"-----\")\n",
    "print(f\"Intercept P-value: {pvalues['intercept']:.4g}\")\n",
    "print(f\"ab_page P-value: {pvalues['ab_page']:.4g}\")\n",
    "print(\"-----\")\n",
    "print(f\"Intercept 95% CI: [{conf[0][0]:.4f}, {conf[1][0]:.4f}]\")\n",
    "print(f\"ab_page 95% CI: [{conf[0][1]:.4f}, {conf[1][1]:.4f}]\")\n",
    "print(\"-----\")\n",
    "print(f\"Manually Computed LLR p-value: {llr_pvalue:.4g}\")"
   ]
  },
  {
   "cell_type": "markdown",
   "metadata": {},
   "source": [
    "**e.** What is the p-value associated with **ab_page**? Why does it differ from the value you found in **Part II**?<br><br>  \n",
    "\n",
    "**Hints**: \n",
    "- What are the null and alternative hypotheses associated with your regression model, and how do they compare to the null and alternative hypotheses in **Part II**? \n",
    "- You may comment on if these hypothesis (Part II vs. Part III) are one-sided or two-sided. \n",
    "- You may also compare the current p-value with the Type I error rate (0.05).\n"
   ]
  },
  {
   "cell_type": "markdown",
   "metadata": {},
   "source": [
    ">From the logistic regression model, the p-value for ab_page is approximately 0.190. The p-value differs from Part II due to differences in the null and alternative hypotheses between the A/B test and the regression model.\n",
    "\n",
    "> The null and alternative hypothesis from part 2 are a one-sided test since we are only interested in whether the new page performs better than the old page. They were as follows: Null Hypothesis (H₀): The conversion rate of the new page is less than or equal to the conversion rate of the old page. (𝑝𝑛𝑒𝑤≤𝑝𝑜𝑙𝑑) and Alternative Hypothesis (H₁): The conversion rate of the new page is higher than the conversion rate of the old page.(𝑝𝑛𝑒𝑤>𝑝𝑜𝑙𝑑)\n",
    "\n",
    "> The null and alternative hypothesis from part 3 are a two-sided test because we are testing if the ab_page coefficient is different from zero in either direction (higher or lower conversion rates). They were as follows: Null Hypothesis (H₀): There is no significant relationship between the type of page (old or new) and the conversion rate. The coefficient of ab_page is zero. Alternative Hypothesis (H₁): There is a significant relationship between the type of page and the conversion rate. The coefficient of ab_page is not zero.\n",
    "\n",
    ">The p-value of 0.190 is greater than 0.05, indicating that it fails to reject the null hypothesis. This suggests that there is no statistically significant difference between the conversion rates for the new page and the old page.\n",
    "\n",
    ">The p-value in Part III (0.190) is different from Part II because the regression model tests for differences in both directions (two-sided), while the A/B test in Part II was focused on one direction (one-sided). In both cases, the evidence suggests that there is no significant difference in conversion rates between the old and new pages."
   ]
  },
  {
   "cell_type": "markdown",
   "metadata": {},
   "source": [
    "**f.** Now, you are considering other things that might influence whether or not an individual converts.  Discuss why it is a good idea to consider other factors to add into your regression model.  Are there any disadvantages to adding additional terms into your regression model?"
   ]
  },
  {
   "cell_type": "markdown",
   "metadata": {},
   "source": [
    "> While adding more factors can improve the model's accuracy and control for confounding variables, it’s important to balance this with the risk of overfitting and multicollinearity. A good practice is to include factors that are theoretically or practically relevant to conversions, and then check the model diagnostics to ensure it’s performing well.\n",
    "\n",
    "> Advantages of having other factors to add to a regression model: \n",
    "- Improved Predictive Power: By adding relevant variables, you can increase the model's ability to explain the variance in the dependent variable (conversion). For example, user demographics (like age, gender, or region) or browsing behavior could provide more insights into why someone converts.\n",
    "- Multivariable Analysis: Adding more factors allows you to perform a multivariable analysis, which means you can simultaneously examine the effects of multiple factors on conversion. This makes the analysis more robust and comprehensive.\n",
    "- Interaction Effects: Additional factors can help reveal interaction effects. For example, the effect of the new page on conversion might depend on certain user characteristics (e.g., age or device type). This interaction can be captured with additional terms in the model.\n",
    "\n",
    "> Potential disadvantages: \n",
    "- Overfitting - If too many variables are included, the model might become overly complex and fit the noise in the training data rather than the underlying pattern. Overfitting makes the model less generalizable to new, unseen data. \n",
    "- Multicollinearity - If the added variables are highly correlated with each other, this can cause multicollinearity, which makes it difficult to interpret the coefficients accurately. Multicollinearity can inflate the standard errors of the estimates and make it harder to determine which variables are significant.\n"
   ]
  },
  {
   "cell_type": "markdown",
   "metadata": {},
   "source": [
    "**g. Adding countries**<br> \n",
    "Now along with testing if the conversion rate changes for different pages, also add an effect based on which country a user lives in. \n",
    "\n",
    "1. You will need to read in the **countries.csv** dataset and merge together your `df2` datasets on the appropriate rows. You call the resulting dataframe `df_merged`. [Here](https://pandas.pydata.org/pandas-docs/stable/reference/api/pandas.DataFrame.join.html) are the docs for joining tables. \n",
    "\n",
    "2. Does it appear that country had an impact on conversion?  To answer this question, consider the three unique values, `['UK', 'US', 'CA']`, in the `country` column. Create dummy variables for these country columns. \n",
    ">**Hint:** Use `pandas.get_dummies()` to create dummy variables. **You will utilize two columns for the three dummy variables.** \n",
    "\n",
    " Provide the statistical output as well as a written response to answer this question."
   ]
  },
  {
   "cell_type": "code",
   "execution_count": 34,
   "metadata": {},
   "outputs": [],
   "source": [
    "import pandas as pd\n",
    "\n",
    "countries_path = 'countries.csv'\n",
    "countries_df = pd.read_csv(countries_path)"
   ]
  },
  {
   "cell_type": "code",
   "execution_count": 35,
   "metadata": {},
   "outputs": [
    {
     "name": "stdout",
     "output_type": "stream",
     "text": [
      "Optimization terminated successfully.\n",
      "         Current function value: 0.366113\n",
      "         Iterations 6\n"
     ]
    }
   ],
   "source": [
    "# Merge the countries dataset with df2 on the 'user_id' column\n",
    "df_merged = pd.merge(df2, countries_df, on='user_id')"
   ]
  },
  {
   "cell_type": "code",
   "execution_count": 36,
   "metadata": {},
   "outputs": [],
   "source": [
    "# Create dummy variables for the three countries (CA, UK, US)\n",
    "country_dummies = pd.get_dummies(df_merged['country'], drop_first=True)\n",
    "\n",
    "# Merge the dummy variables back into df_merged\n",
    "df_merged = pd.concat([df_merged, country_dummies], axis=1)\n",
    "\n",
    "# Define the independent variables (intercept, ab_page, and country dummies without CA)\n",
    "X = df_merged[['intercept', 'ab_page', 'UK', 'US']]\n",
    "y = df_merged['converted']\n",
    "\n",
    "# Instantiate and fit the logistic regression model\n",
    "logit_model = sm.Logit(y, X)\n",
    "result = logit_model.fit()\n",
    "\n",
    "# Manually extract the key metrics\n",
    "coef = result.params  # Coefficients\n",
    "pvalues = result.pvalues  # P-values\n",
    "conf = result.conf_int()  # Confidence intervals"
   ]
  },
  {
   "cell_type": "code",
   "execution_count": 37,
   "metadata": {},
   "outputs": [
    {
     "name": "stdout",
     "output_type": "stream",
     "text": [
      "Logit Regression Results\n",
      "===================================\n",
      "Intercept Coefficient: -2.0300\n",
      "ab_page Coefficient: -0.0149\n",
      "UK Coefficient: 0.0506\n",
      "US Coefficient: 0.0408\n",
      "-----\n",
      "ab_page P-value: 0.1912\n",
      "UK P-value: 0.0745\n",
      "US P-value: 0.1295\n",
      "-----\n",
      "ab_page 95% CI: [-0.0374, 0.0075]\n",
      "UK 95% CI: [-0.0050, 0.1063]\n",
      "US 95% CI: [-0.0119, 0.0934]\n"
     ]
    }
   ],
   "source": [
    "# Display the key metrics\n",
    "print(\"Logit Regression Results\")\n",
    "print(\"===================================\")\n",
    "print(f\"Intercept Coefficient: {coef['intercept']:.4f}\")\n",
    "print(f\"ab_page Coefficient: {coef['ab_page']:.4f}\")\n",
    "print(f\"UK Coefficient: {coef['UK']:.4f}\")\n",
    "print(f\"US Coefficient: {coef['US']:.4f}\")\n",
    "print(\"-----\")\n",
    "print(f\"ab_page P-value: {pvalues['ab_page']:.4g}\")\n",
    "print(f\"UK P-value: {pvalues['UK']:.4g}\")\n",
    "print(f\"US P-value: {pvalues['US']:.4g}\")\n",
    "print(\"-----\")\n",
    "print(f\"ab_page 95% CI: [{conf[0]['ab_page']:.4f}, {conf[1]['ab_page']:.4f}]\")\n",
    "print(f\"UK 95% CI: [{conf[0]['UK']:.4f}, {conf[1]['UK']:.4f}]\")\n",
    "print(f\"US 95% CI: [{conf[0]['US']:.4f}, {conf[1]['US']:.4f}]\")"
   ]
  },
  {
   "cell_type": "markdown",
   "metadata": {},
   "source": [
    "> It does not appear that country has an impact on conversion based on the data collected. The results show that neither the United States nor the United Kingdom has a statistically significant effect on conversion rates compared to the baseline group, which is Canada. The p-value for the UK is 0.0745, which is close to the threshold, suggesting that UK users might have a slightly higher conversion rate, but this result is not conclusive. The p-value for the US is 0.1295, indicating no significant difference in conversion behavior between US and Canadian users. Overall, we cannot conclude that country or page type has a meaningful impact on conversion rates based on this analysis."
   ]
  },
  {
   "cell_type": "markdown",
   "metadata": {},
   "source": [
    "**h. Fit your model and obtain the results**<br> \n",
    "Though you have now looked at the individual factors of country and page on conversion, we would now like to look at an interaction between page and country to see if are there significant effects on conversion.  **Create the necessary additional columns, and fit the new model.** \n",
    "\n",
    "\n",
    "Provide the summary results (statistical output), and your conclusions (written response) based on the results. \n",
    "\n",
    ">**Tip**: Conclusions should include both statistical reasoning, and practical reasoning for the situation. \n",
    "\n",
    ">**Hints**: \n",
    "- Look at all of p-values in the summary, and compare against the Type I error rate (0.05). \n",
    "- Can you reject/fail to reject the null hypotheses (regression model)?\n",
    "- Comment on the effect of page and country to predict the conversion.\n"
   ]
  },
  {
   "cell_type": "code",
   "execution_count": 38,
   "metadata": {},
   "outputs": [
    {
     "name": "stdout",
     "output_type": "stream",
     "text": [
      "Optimization terminated successfully.\n",
      "         Current function value: 0.366109\n",
      "         Iterations 6\n",
      "Logit Regression Results with Interaction Terms\n",
      "==============================================\n",
      "Intercept Coefficient: -2.0040\n",
      "ab_page Coefficient: -0.0674\n",
      "UK Coefficient: 0.0118\n",
      "US Coefficient: 0.0175\n",
      "ab_page_UK Coefficient: 0.0783\n",
      "ab_page_US Coefficient: 0.0469\n",
      "-----\n",
      "ab_page P-value: 0.1947\n",
      "UK P-value: 0.7674\n",
      "US P-value: 0.6418\n",
      "ab_page_UK P-value: 0.1681\n",
      "ab_page_US P-value: 0.3833\n",
      "-----\n",
      "ab_page 95% CI: [-0.1694, 0.0345]\n",
      "UK 95% CI: [-0.0663, 0.0899]\n",
      "US 95% CI: [-0.0563, 0.0914]\n",
      "ab_page_UK 95% CI: [-0.0330, 0.1896]\n",
      "ab_page_US 95% CI: [-0.0585, 0.1523]\n"
     ]
    }
   ],
   "source": [
    "# Create interaction terms between ab_page and the country dummies (UK, US)\n",
    "df_merged['ab_page_UK'] = df_merged['ab_page'] * df_merged['UK']\n",
    "df_merged['ab_page_US'] = df_merged['ab_page'] * df_merged['US']\n",
    "\n",
    "# Define the independent variables (including interaction terms) and the dependent variable\n",
    "X_interaction = df_merged[['intercept', 'ab_page', 'UK', 'US', 'ab_page_UK', 'ab_page_US']]\n",
    "y_interaction = df_merged['converted']\n",
    "\n",
    "# Instantiate and fit the logistic regression model with interaction terms\n",
    "logit_model_interaction = sm.Logit(y_interaction, X_interaction)\n",
    "result_interaction = logit_model_interaction.fit()\n",
    "\n",
    "# Manually extract the key metrics for interaction model\n",
    "coef_interaction = result_interaction.params  # Coefficients\n",
    "pvalues_interaction = result_interaction.pvalues  # P-values\n",
    "conf_interaction = result_interaction.conf_int()  # Confidence intervals\n",
    "\n",
    "# Display the key metrics for interaction model\n",
    "print(\"Logit Regression Results with Interaction Terms\")\n",
    "print(\"==============================================\")\n",
    "print(f\"Intercept Coefficient: {coef_interaction['intercept']:.4f}\")\n",
    "print(f\"ab_page Coefficient: {coef_interaction['ab_page']:.4f}\")\n",
    "print(f\"UK Coefficient: {coef_interaction['UK']:.4f}\")\n",
    "print(f\"US Coefficient: {coef_interaction['US']:.4f}\")\n",
    "print(f\"ab_page_UK Coefficient: {coef_interaction['ab_page_UK']:.4f}\")\n",
    "print(f\"ab_page_US Coefficient: {coef_interaction['ab_page_US']:.4f}\")\n",
    "print(\"-----\")\n",
    "print(f\"ab_page P-value: {pvalues_interaction['ab_page']:.4g}\")\n",
    "print(f\"UK P-value: {pvalues_interaction['UK']:.4g}\")\n",
    "print(f\"US P-value: {pvalues_interaction['US']:.4g}\")\n",
    "print(f\"ab_page_UK P-value: {pvalues_interaction['ab_page_UK']:.4g}\")\n",
    "print(f\"ab_page_US P-value: {pvalues_interaction['ab_page_US']:.4g}\")\n",
    "print(\"-----\")\n",
    "print(f\"ab_page 95% CI: [{conf_interaction[0]['ab_page']:.4f}, {conf_interaction[1]['ab_page']:.4f}]\")\n",
    "print(f\"UK 95% CI: [{conf_interaction[0]['UK']:.4f}, {conf_interaction[1]['UK']:.4f}]\")\n",
    "print(f\"US 95% CI: [{conf_interaction[0]['US']:.4f}, {conf_interaction[1]['US']:.4f}]\")\n",
    "print(f\"ab_page_UK 95% CI: [{conf_interaction[0]['ab_page_UK']:.4f}, {conf_interaction[1]['ab_page_UK']:.4f}]\")\n",
    "print(f\"ab_page_US 95% CI: [{conf_interaction[0]['ab_page_US']:.4f}, {conf_interaction[1]['ab_page_US']:.4f}]\")"
   ]
  },
  {
   "cell_type": "markdown",
   "metadata": {},
   "source": [
    "> Statistical Conclusion:\n",
    "The results of the logistic regression model, which included interaction terms between page type and country, indicate that none of the variables have a statistically significant impact on conversion rates. The p-values for all variables, including the page type (ab_page), country (UK and US), and the interaction effects (ab_page_UK and ab_page_US), are all greater than the standard significance level of 0.05. As a result, we fail to reject the null hypothesis for each term. This means that neither the new page nor the country of the user (UK or US compared to Canada) has a statistically significant effect on conversion rates. Furthermore, the interaction between page type and country does not show any significant effects, suggesting that the conversion rates for the new page are not impacted by the user’s location.\n",
    "\n",
    "> Practical Conclusion:\n",
    "From a practical business perspective, the results suggest that implementing the new page would not lead to significant improvements in conversion rates, regardless of whether the user is from Canada, the UK, or the US. The interaction terms also indicate that there is no meaningful difference in how the new page performs across these different countries. Therefore, introducing the new page is unlikely to provide a conversion benefit, and the decision to change the page design should not be influenced by geographic considerations. Based on this analysis, keeping the current page may be the better option, as there is no evidence to suggest that the new page would outperform it in driving conversions."
   ]
  },
  {
   "cell_type": "markdown",
   "metadata": {},
   "source": [
    "<a id='finalcheck'></a>\n",
    "## Final Check!\n",
    "\n",
    "Congratulations!  You have reached the end of the A/B Test Results project!  You should be very proud of all you have accomplished!\n",
    "\n",
    "> **Tip**: Once you are satisfied with your work here, check over your notebook to make sure that it satisfies all the specifications mentioned in the rubric. You should also probably remove all of the \"Hints\" and \"Tips\" like this one so that the presentation is as polished as possible.\n",
    "\n",
    "\n",
    "<a id='submission'></a>\n",
    "## Submission\n",
    "You may either submit your notebook through the \"SUBMIT PROJECT\" button at the bottom of this workspace, or you may work from your local machine and submit on  the last page of this project lesson.  \n",
    "\n",
    "1. Before you submit your project, you need to create a .html or .pdf version of this notebook in the workspace here. To do that, run the code cell below. If it worked correctly, you should get a return code of 0, and you should see the generated .html file in the workspace directory (click on the orange Jupyter icon in the upper left).\n",
    "\n",
    "\n",
    "2. Alternatively, you can download this report as .html via the **File** > **Download as** submenu, and then manually upload it into the workspace directory by clicking on the orange Jupyter icon in the upper left, then using the Upload button.\n",
    "\n",
    "\n",
    "3. Once you've done this, you can submit your project by clicking on the \"Submit Project\" button in the lower right here. This will create and submit a zip file with this .ipynb doc and the .html or .pdf version you created. Congratulations!"
   ]
  },
  {
   "cell_type": "code",
   "execution_count": 39,
   "metadata": {},
   "outputs": [
    {
     "data": {
      "text/plain": [
       "0"
      ]
     },
     "execution_count": 39,
     "metadata": {},
     "output_type": "execute_result"
    }
   ],
   "source": [
    "from subprocess import call\n",
    "call(['python', '-m', 'nbconvert', 'Analyze_ab_test_results_notebook.ipynb'])"
   ]
  },
  {
   "cell_type": "code",
   "execution_count": null,
   "metadata": {},
   "outputs": [],
   "source": []
  }
 ],
 "metadata": {
  "kernelspec": {
   "display_name": "Python 3",
   "language": "python",
   "name": "python3"
  },
  "language_info": {
   "codemirror_mode": {
    "name": "ipython",
    "version": 3
   },
   "file_extension": ".py",
   "mimetype": "text/x-python",
   "name": "python",
   "nbconvert_exporter": "python",
   "pygments_lexer": "ipython3",
   "version": "3.6.3"
  }
 },
 "nbformat": 4,
 "nbformat_minor": 2
}
